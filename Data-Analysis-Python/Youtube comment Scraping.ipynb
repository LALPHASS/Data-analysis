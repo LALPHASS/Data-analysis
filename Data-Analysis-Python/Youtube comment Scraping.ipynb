{
 "cells": [
  {
   "cell_type": "markdown",
   "id": "740aea87",
   "metadata": {},
   "source": [
    "#### Importing all the Required Libraries"
   ]
  },
  {
   "cell_type": "code",
   "execution_count": 43,
   "id": "a4033399",
   "metadata": {},
   "outputs": [],
   "source": [
    "### The time module to manage time-related tasks.\n",
    "import time\n",
    "\n",
    "### Selenium to control browsers \n",
    "from selenium.webdriver import Chrome\n",
    "from selenium.webdriver.common.by import By\n",
    "from selenium.webdriver.common.keys import Keys\n",
    "from selenium.webdriver.support.ui import WebDriverWait\n",
    "from selenium.webdriver.support import expected_conditions as EC\n",
    "\n",
    "###  Pandas for data manipulation and analysis.\n",
    "import pandas as pd\n",
    "\n",
    "### Matplotlib to create static, animated and interactive visualizations.\n",
    "import matplotlib.pyplot as plt\n",
    "\n",
    "### NumPy for scientific computing.\n",
    "import numpy as np"
   ]
  },
  {
   "cell_type": "markdown",
   "id": "73aa55ac",
   "metadata": {},
   "source": [
    "### Data scraping "
   ]
  },
  {
   "cell_type": "code",
   "execution_count": null,
   "id": "6cea786f",
   "metadata": {
    "scrolled": true
   },
   "outputs": [],
   "source": [
    "### Youtube video link (https://www.youtube.com/watch?v=LrTKeT8xBRg)\n",
    "\n",
    "\n",
    "\"\"\"\n",
    "Access the desired URL using the driver.get method. \n",
    "\n",
    "Scroll down and ensure all elements are visible with wait.until and EC.visibility_of_element_located.\n",
    "\n",
    "Scrape comments by locating all #content-text elements on the current page, which contain the desired information.\n",
    "\n",
    "\"\"\"\n",
    "data=[]\n",
    "with Chrome(executable_path=r'C:\\Program Files\\chromedriver.exe') as driver:\n",
    "    wait = WebDriverWait(driver,15)\n",
    "    driver.get(\"https://www.youtube.com/watch?v=LrTKeT8xBRg\")\n",
    "\n",
    "    for item in range(200): \n",
    "        wait.until(EC.visibility_of_element_located((By.TAG_NAME, \"body\"))).send_keys(Keys.END)\n",
    "        time.sleep(10)\n",
    "\n",
    "    for comment in wait.until(EC.presence_of_all_elements_located((By.CSS_SELECTOR, \"#content\"))):\n",
    "        data.append(comment.text)"
   ]
  },
  {
   "cell_type": "code",
   "execution_count": 39,
   "id": "158187dd",
   "metadata": {},
   "outputs": [],
   "source": [
    "data__frame = pd.DataFrame(data, columns=['comment'])"
   ]
  },
  {
   "cell_type": "code",
   "execution_count": null,
   "id": "4d96510b",
   "metadata": {},
   "outputs": [],
   "source": [
    "### To see all the text of the long comments\n",
    "pd.options.display.max_colwidth = int(data__frame['comment'].str.len().max()) + 1"
   ]
  },
  {
   "cell_type": "code",
   "execution_count": 40,
   "id": "b6a661ea",
   "metadata": {
    "collapsed": true
   },
   "outputs": [
    {
     "data": {
      "text/html": [
       "<div>\n",
       "<style scoped>\n",
       "    .dataframe tbody tr th:only-of-type {\n",
       "        vertical-align: middle;\n",
       "    }\n",
       "\n",
       "    .dataframe tbody tr th {\n",
       "        vertical-align: top;\n",
       "    }\n",
       "\n",
       "    .dataframe thead th {\n",
       "        text-align: right;\n",
       "    }\n",
       "</style>\n",
       "<table border=\"1\" class=\"dataframe\">\n",
       "  <thead>\n",
       "    <tr style=\"text-align: right;\">\n",
       "      <th></th>\n",
       "      <th>comment</th>\n",
       "    </tr>\n",
       "  </thead>\n",
       "  <tbody>\n",
       "    <tr>\n",
       "      <th>1412</th>\n",
       "      <td>I hate pizza</td>\n",
       "    </tr>\n",
       "    <tr>\n",
       "      <th>1413</th>\n",
       "      <td>Yall</td>\n",
       "    </tr>\n",
       "    <tr>\n",
       "      <th>1414</th>\n",
       "      <td>what a waste</td>\n",
       "    </tr>\n",
       "    <tr>\n",
       "      <th>1415</th>\n",
       "      <td>Bdnd</td>\n",
       "    </tr>\n",
       "    <tr>\n",
       "      <th>1416</th>\n",
       "      <td>T</td>\n",
       "    </tr>\n",
       "    <tr>\n",
       "      <th>1417</th>\n",
       "      <td>T</td>\n",
       "    </tr>\n",
       "    <tr>\n",
       "      <th>1418</th>\n",
       "      <td>I hate pineapple pizza I like pepperoni pizza</td>\n",
       "    </tr>\n",
       "    <tr>\n",
       "      <th>1419</th>\n",
       "      <td>I didn’t got it i am unsubbing</td>\n",
       "    </tr>\n",
       "    <tr>\n",
       "      <th>1420</th>\n",
       "      <td>I just unsubscribe</td>\n",
       "    </tr>\n",
       "    <tr>\n",
       "      <th>1421</th>\n",
       "      <td>No</td>\n",
       "    </tr>\n",
       "    <tr>\n",
       "      <th>1422</th>\n",
       "      <td>W</td>\n",
       "    </tr>\n",
       "    <tr>\n",
       "      <th>1423</th>\n",
       "      <td>I am not</td>\n",
       "    </tr>\n",
       "    <tr>\n",
       "      <th>1424</th>\n",
       "      <td>I know this is a fun and money only for you . But  why the hell you and your team inappropriate language in your video. My 8yrs old subscribed your channel and i was sitting with him watching this vidoe.i i told him to unsuscribe you ..</td>\n",
       "    </tr>\n",
       "    <tr>\n",
       "      <th>1425</th>\n",
       "      <td></td>\n",
       "    </tr>\n",
       "    <tr>\n",
       "      <th>1426</th>\n",
       "      <td></td>\n",
       "    </tr>\n",
       "    <tr>\n",
       "      <th>1427</th>\n",
       "      <td></td>\n",
       "    </tr>\n",
       "    <tr>\n",
       "      <th>1428</th>\n",
       "      <td></td>\n",
       "    </tr>\n",
       "    <tr>\n",
       "      <th>1429</th>\n",
       "      <td></td>\n",
       "    </tr>\n",
       "    <tr>\n",
       "      <th>1430</th>\n",
       "      <td></td>\n",
       "    </tr>\n",
       "    <tr>\n",
       "      <th>1431</th>\n",
       "      <td></td>\n",
       "    </tr>\n",
       "  </tbody>\n",
       "</table>\n",
       "</div>"
      ],
      "text/plain": [
       "                                                                                                                                                                                                                                           comment\n",
       "1412                                                                                                                                                                                                                                  I hate pizza\n",
       "1413                                                                                                                                                                                                                                          Yall\n",
       "1414                                                                                                                                                                                                                                  what a waste\n",
       "1415                                                                                                                                                                                                                                          Bdnd\n",
       "1416                                                                                                                                                                                                                                             T\n",
       "1417                                                                                                                                                                                                                                             T\n",
       "1418                                                                                                                                                                                                 I hate pineapple pizza I like pepperoni pizza\n",
       "1419                                                                                                                                                                                                                I didn’t got it i am unsubbing\n",
       "1420                                                                                                                                                                                                                            I just unsubscribe\n",
       "1421                                                                                                                                                                                                                                            No\n",
       "1422                                                                                                                                                                                                                                             W\n",
       "1423                                                                                                                                                                                                                                      I am not\n",
       "1424  I know this is a fun and money only for you . But  why the hell you and your team inappropriate language in your video. My 8yrs old subscribed your channel and i was sitting with him watching this vidoe.i i told him to unsuscribe you ..\n",
       "1425                                                                                                                                                                                                                                              \n",
       "1426                                                                                                                                                                                                                                              \n",
       "1427                                                                                                                                                                                                                                              \n",
       "1428                                                                                                                                                                                                                                              \n",
       "1429                                                                                                                                                                                                                                              \n",
       "1430                                                                                                                                                                                                                                              \n",
       "1431                                                                                                                                                                                                                                              "
      ]
     },
     "execution_count": 40,
     "metadata": {},
     "output_type": "execute_result"
    }
   ],
   "source": [
    "### The last 20 comments in the data frame\n",
    "data__frame.tail(n=20)"
   ]
  },
  {
   "cell_type": "markdown",
   "id": "87fd81f2",
   "metadata": {},
   "source": [
    "###### There are empty cells in the data"
   ]
  },
  {
   "cell_type": "code",
   "execution_count": 41,
   "id": "1b3f0c65",
   "metadata": {},
   "outputs": [],
   "source": [
    "### Before making any changes to the data, I save a copy first. \n",
    "data__frame__copy= data__frame.copy()\n",
    "data__frame__copy.head()"
   ]
  },
  {
   "cell_type": "code",
   "execution_count": 44,
   "id": "c9916149",
   "metadata": {},
   "outputs": [],
   "source": [
    "### First method to delete empty cells\n",
    "data__frame.dropna(subset=['comment'], inplace=True)\n",
    "data__frame.head(n=20)"
   ]
  },
  {
   "cell_type": "code",
   "execution_count": 59,
   "id": "198f23ac",
   "metadata": {},
   "outputs": [],
   "source": [
    "### The seconde\n",
    "df=data__frame__copy[data__frame__copy.comment != '']\n",
    "df.head(n=20)"
   ]
  },
  {
   "cell_type": "code",
   "execution_count": 76,
   "id": "76773a2f",
   "metadata": {},
   "outputs": [],
   "source": [
    "### Delate the header\n",
    "df1= df.iloc[2:]"
   ]
  },
  {
   "cell_type": "code",
   "execution_count": 77,
   "id": "b3f8acdd",
   "metadata": {
    "collapsed": true
   },
   "outputs": [
    {
     "data": {
      "text/html": [
       "<div>\n",
       "<style scoped>\n",
       "    .dataframe tbody tr th:only-of-type {\n",
       "        vertical-align: middle;\n",
       "    }\n",
       "\n",
       "    .dataframe tbody tr th {\n",
       "        vertical-align: top;\n",
       "    }\n",
       "\n",
       "    .dataframe thead th {\n",
       "        text-align: right;\n",
       "    }\n",
       "</style>\n",
       "<table border=\"1\" class=\"dataframe\">\n",
       "  <thead>\n",
       "    <tr style=\"text-align: right;\">\n",
       "      <th></th>\n",
       "      <th>comment</th>\n",
       "    </tr>\n",
       "  </thead>\n",
       "  <tbody>\n",
       "    <tr>\n",
       "      <th>4</th>\n",
       "      <td>From one pizza fanatic to another, well done</td>\n",
       "    </tr>\n",
       "    <tr>\n",
       "      <th>5</th>\n",
       "      <td>You guys never cease to surprise me, congratulations on pulling this off!</td>\n",
       "    </tr>\n",
       "    <tr>\n",
       "      <th>6</th>\n",
       "      <td>This is absolutely insane! Congratulations- and I hope you all got to eat a slice after all that work lol</td>\n",
       "    </tr>\n",
       "    <tr>\n",
       "      <th>7</th>\n",
       "      <td>I like how they celebrated with the entire pizza making crew. Amazing</td>\n",
       "    </tr>\n",
       "    <tr>\n",
       "      <th>8</th>\n",
       "      <td>It’s rare to see a youtuber actually do what he promise,this guy deserves it for sure.</td>\n",
       "    </tr>\n",
       "    <tr>\n",
       "      <th>...</th>\n",
       "      <td>...</td>\n",
       "    </tr>\n",
       "    <tr>\n",
       "      <th>1420</th>\n",
       "      <td>I just unsubscribe</td>\n",
       "    </tr>\n",
       "    <tr>\n",
       "      <th>1421</th>\n",
       "      <td>No</td>\n",
       "    </tr>\n",
       "    <tr>\n",
       "      <th>1422</th>\n",
       "      <td>W</td>\n",
       "    </tr>\n",
       "    <tr>\n",
       "      <th>1423</th>\n",
       "      <td>I am not</td>\n",
       "    </tr>\n",
       "    <tr>\n",
       "      <th>1424</th>\n",
       "      <td>I know this is a fun and money only for you . But  why the hell you and your team inappropriate language in your video. My 8yrs old subscribed your channel and i was sitting with him watching this vidoe.i i told him to unsuscribe you ..</td>\n",
       "    </tr>\n",
       "  </tbody>\n",
       "</table>\n",
       "<p>1416 rows × 1 columns</p>\n",
       "</div>"
      ],
      "text/plain": [
       "                                                                                                                                                                                                                                           comment\n",
       "4                                                                                                                                                                                                    From one pizza fanatic to another, well done \n",
       "5                                                                                                                                                                        You guys never cease to surprise me, congratulations on pulling this off!\n",
       "6                                                                                                                                        This is absolutely insane! Congratulations- and I hope you all got to eat a slice after all that work lol\n",
       "7                                                                                                                                                                            I like how they celebrated with the entire pizza making crew. Amazing\n",
       "8                                                                                                                                                           It’s rare to see a youtuber actually do what he promise,this guy deserves it for sure.\n",
       "...                                                                                                                                                                                                                                            ...\n",
       "1420                                                                                                                                                                                                                            I just unsubscribe\n",
       "1421                                                                                                                                                                                                                                            No\n",
       "1422                                                                                                                                                                                                                                             W\n",
       "1423                                                                                                                                                                                                                                      I am not\n",
       "1424  I know this is a fun and money only for you . But  why the hell you and your team inappropriate language in your video. My 8yrs old subscribed your channel and i was sitting with him watching this vidoe.i i told him to unsuscribe you ..\n",
       "\n",
       "[1416 rows x 1 columns]"
      ]
     },
     "execution_count": 77,
     "metadata": {},
     "output_type": "execute_result"
    }
   ],
   "source": [
    "df1"
   ]
  },
  {
   "cell_type": "markdown",
   "id": "da7a2137",
   "metadata": {},
   "source": [
    "### There are some duplicates data"
   ]
  },
  {
   "cell_type": "code",
   "execution_count": 92,
   "id": "21dcaf99",
   "metadata": {
    "scrolled": false
   },
   "outputs": [],
   "source": [
    "### Delete all duplicate data, keeping the last\n",
    "dff=df1.drop_duplicates(keep='last')"
   ]
  },
  {
   "cell_type": "code",
   "execution_count": 96,
   "id": "f67cdcc2",
   "metadata": {
    "collapsed": true
   },
   "outputs": [
    {
     "data": {
      "text/html": [
       "<div>\n",
       "<style scoped>\n",
       "    .dataframe tbody tr th:only-of-type {\n",
       "        vertical-align: middle;\n",
       "    }\n",
       "\n",
       "    .dataframe tbody tr th {\n",
       "        vertical-align: top;\n",
       "    }\n",
       "\n",
       "    .dataframe thead th {\n",
       "        text-align: right;\n",
       "    }\n",
       "</style>\n",
       "<table border=\"1\" class=\"dataframe\">\n",
       "  <thead>\n",
       "    <tr style=\"text-align: right;\">\n",
       "      <th></th>\n",
       "      <th>comment</th>\n",
       "    </tr>\n",
       "  </thead>\n",
       "  <tbody>\n",
       "    <tr>\n",
       "      <th>1414</th>\n",
       "      <td>what a waste</td>\n",
       "    </tr>\n",
       "    <tr>\n",
       "      <th>1415</th>\n",
       "      <td>Bdnd</td>\n",
       "    </tr>\n",
       "    <tr>\n",
       "      <th>1417</th>\n",
       "      <td>T</td>\n",
       "    </tr>\n",
       "    <tr>\n",
       "      <th>1418</th>\n",
       "      <td>I hate pineapple pizza I like pepperoni pizza</td>\n",
       "    </tr>\n",
       "    <tr>\n",
       "      <th>1419</th>\n",
       "      <td>I didn’t got it i am unsubbing</td>\n",
       "    </tr>\n",
       "    <tr>\n",
       "      <th>1420</th>\n",
       "      <td>I just unsubscribe</td>\n",
       "    </tr>\n",
       "    <tr>\n",
       "      <th>1421</th>\n",
       "      <td>No</td>\n",
       "    </tr>\n",
       "    <tr>\n",
       "      <th>1422</th>\n",
       "      <td>W</td>\n",
       "    </tr>\n",
       "    <tr>\n",
       "      <th>1423</th>\n",
       "      <td>I am not</td>\n",
       "    </tr>\n",
       "    <tr>\n",
       "      <th>1424</th>\n",
       "      <td>I know this is a fun and money only for you . But  why the hell you and your team inappropriate language in your video. My 8yrs old subscribed your channel and i was sitting with him watching this vidoe.i i told him to unsuscribe you ..</td>\n",
       "    </tr>\n",
       "  </tbody>\n",
       "</table>\n",
       "</div>"
      ],
      "text/plain": [
       "                                                                                                                                                                                                                                           comment\n",
       "1414                                                                                                                                                                                                                                  what a waste\n",
       "1415                                                                                                                                                                                                                                          Bdnd\n",
       "1417                                                                                                                                                                                                                                             T\n",
       "1418                                                                                                                                                                                                 I hate pineapple pizza I like pepperoni pizza\n",
       "1419                                                                                                                                                                                                                I didn’t got it i am unsubbing\n",
       "1420                                                                                                                                                                                                                            I just unsubscribe\n",
       "1421                                                                                                                                                                                                                                            No\n",
       "1422                                                                                                                                                                                                                                             W\n",
       "1423                                                                                                                                                                                                                                      I am not\n",
       "1424  I know this is a fun and money only for you . But  why the hell you and your team inappropriate language in your video. My 8yrs old subscribed your channel and i was sitting with him watching this vidoe.i i told him to unsuscribe you .."
      ]
     },
     "execution_count": 96,
     "metadata": {},
     "output_type": "execute_result"
    }
   ],
   "source": [
    "dff.tail(n=10)"
   ]
  },
  {
   "cell_type": "code",
   "execution_count": null,
   "id": "52fabb6a",
   "metadata": {
    "scrolled": false
   },
   "outputs": [],
   "source": [
    "### Save the data in csv file, so i can load it any time i want, and do the analysis. \n",
    "dff.to_csv('youtube_comment.csv',header=False,index=False, encoding='utf-8')"
   ]
  },
  {
   "cell_type": "code",
   "execution_count": 3,
   "id": "9e273670",
   "metadata": {},
   "outputs": [],
   "source": [
    "### Load the data\n",
    "dff= pd.read_csv('youtube_comment.csv')"
   ]
  },
  {
   "cell_type": "code",
   "execution_count": null,
   "id": "05c0a5a8",
   "metadata": {
    "scrolled": true
   },
   "outputs": [],
   "source": [
    "### The instalation of vaderSentiment to do the sentiment analysis of the comments\n",
    "pip install vaderSentiment"
   ]
  },
  {
   "cell_type": "code",
   "execution_count": 5,
   "id": "da5fe67b",
   "metadata": {},
   "outputs": [],
   "source": [
    "### Import vaderSentiment module (SentimentIntensityAnalyzer)\n",
    "from vaderSentiment.vaderSentiment import SentimentIntensityAnalyzer"
   ]
  },
  {
   "cell_type": "code",
   "execution_count": 17,
   "id": "a4eb501c",
   "metadata": {},
   "outputs": [],
   "source": [
    "dff = dff.rename(columns={'You guys never cease to surprise me, congratulations on pulling this off!': 'comment'})"
   ]
  },
  {
   "cell_type": "markdown",
   "id": "18ad8bdd",
   "metadata": {},
   "source": [
    "### Sentiment Analysis"
   ]
  },
  {
   "cell_type": "code",
   "execution_count": 22,
   "id": "9d019457",
   "metadata": {
    "scrolled": true
   },
   "outputs": [
    {
     "name": "stdout",
     "output_type": "stream",
     "text": [
      "Positive 634\n",
      "neutral 508\n",
      "negative 145\n"
     ]
    }
   ],
   "source": [
    "### This is the code for the sentiment analysis, and to count how many positive or negative or neutral sentiment we have\n",
    "\n",
    "analyzer = SentimentIntensityAnalyzer()\n",
    "neg=0\n",
    "pos=0\n",
    "net=0\n",
    "for sentence in range(1287):\n",
    "    vs = analyzer.polarity_scores(dff.iloc[sentence])\n",
    "    if vs['compound'] >= 0.05 :\n",
    "        pos=pos+1\n",
    " \n",
    "    elif vs['compound'] <= - 0.05 :\n",
    "        neg=neg+1\n",
    " \n",
    "    else :\n",
    "        net=net+1\n",
    "print(\"Positive\", pos)\n",
    "print(\"neutral\", net)\n",
    "print(\"negative\", neg)"
   ]
  },
  {
   "cell_type": "markdown",
   "id": "37323437",
   "metadata": {},
   "source": [
    "# Data visulization"
   ]
  },
  {
   "cell_type": "code",
   "execution_count": 50,
   "id": "90fc2804",
   "metadata": {
    "scrolled": true
   },
   "outputs": [
    {
     "data": {
      "image/png": "[encoded data removed]",
      "text/plain": [
       "<Figure size 144x144 with 1 Axes>"
      ]
     },
     "metadata": {},
     "output_type": "display_data"
    }
   ],
   "source": [
    "# make data\n",
    "x = [pos, net, neg]\n",
    "colors = plt.get_cmap('Blues')(np.linspace(0.2, 0.7, len(x)))\n",
    "labels = ['Positive', 'Neutral', 'Negative']\n",
    "\n",
    "# plot\n",
    "fig, ax = plt.subplots()\n",
    "ax.pie(x, colors=colors, radius=4, center=(4, 4),labels = labels,\n",
    "       wedgeprops={\"linewidth\": 2, \"edgecolor\": \"white\"})\n",
    "\n",
    "plt.show()"
   ]
  },
  {
   "cell_type": "markdown",
   "id": "26e41af7",
   "metadata": {},
   "source": [
    "## Basically, after going through the comments and analyzing people's feelings, we can conclude that the video was well received by the majority.\n",
    "\n",
    "\n",
    "## However, there are about 11% of negative comments, perhaps due to the inappropriate language used in the video for children, or the waste of food for some people.\n",
    "\n",
    "\n",
    "\n",
    "\n"
   ]
  },
  {
   "cell_type": "markdown",
   "id": "77ff5616",
   "metadata": {},
   "source": [
    "### We can utilize the Word Cloud library  in Python,  to identify the most frequently occurring words. Additionally, we can determine the most positive and negative sentences."
   ]
  }
 ],
 "metadata": {
  "kernelspec": {
   "display_name": "Python 3 (ipykernel)",
   "language": "python",
   "name": "python3"
  },
  "language_info": {
   "codemirror_mode": {
    "name": "ipython",
    "version": 3
   },
   "file_extension": ".py",
   "mimetype": "text/x-python",
   "name": "python",
   "nbconvert_exporter": "python",
   "pygments_lexer": "ipython3",
   "version": "3.9.12"
  }
 },
 "nbformat": 4,
 "nbformat_minor": 5
}
